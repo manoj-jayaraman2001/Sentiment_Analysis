{
  "nbformat": 4,
  "nbformat_minor": 0,
  "metadata": {
    "accelerator": "GPU",
    "colab": {
      "name": "NLP_lr_model.ipynb",
      "provenance": []
    },
    "kernelspec": {
      "display_name": "Python 3",
      "language": "python",
      "name": "python3"
    },
    "language_info": {
      "codemirror_mode": {
        "name": "ipython",
        "version": 3
      },
      "file_extension": ".py",
      "mimetype": "text/x-python",
      "name": "python",
      "nbconvert_exporter": "python",
      "pygments_lexer": "ipython3",
      "version": "3.8.8"
    }
  },
  "cells": [
    {
      "cell_type": "markdown",
      "metadata": {
        "id": "U_LsDR-oUfWX"
      },
      "source": [
        "# **Emotion_Detection_of_Text | NLP**"
      ]
    },
    {
      "cell_type": "markdown",
      "metadata": {
        "id": "fLp4iwLhUu8A"
      },
      "source": [
        "Natural language processing is a subfield of linguistics, computer science, and artificial intelligence concerned with the interactions between computers and human language, in particular how to program computers to process and analyze large amounts of natural language data."
      ]
    },
    {
      "cell_type": "code",
      "metadata": {
        "id": "_Q4NX6Y3JUl8"
      },
      "source": [
        "import pandas as pd\n",
        "\n",
        "train = pd.read_csv('/content/all.csv')"
      ],
      "execution_count": null,
      "outputs": []
    },
    {
      "cell_type": "code",
      "metadata": {
        "colab": {
          "base_uri": "https://localhost:8080/",
          "height": 241
        },
        "id": "cmYe7WlgJoIr",
        "outputId": "fae42255-904c-4e93-f28b-14784b195b14"
      },
      "source": [
        "print(\"There are {} text samples with its corresponding emotions in the data set\".format(len(train)))\n",
        "print(\"---------------------------------------------------------------------------------------------------------\")\n",
        "train.head()"
      ],
      "execution_count": null,
      "outputs": [
        {
          "output_type": "stream",
          "name": "stdout",
          "text": [
            "There are 20000 text samples with its corresponding emotions in the data set\n",
            "---------------------------------------------------------------------------------------------------------\n"
          ]
        },
        {
          "output_type": "execute_result",
          "data": {
            "text/html": [
              "<div>\n",
              "<style scoped>\n",
              "    .dataframe tbody tr th:only-of-type {\n",
              "        vertical-align: middle;\n",
              "    }\n",
              "\n",
              "    .dataframe tbody tr th {\n",
              "        vertical-align: top;\n",
              "    }\n",
              "\n",
              "    .dataframe thead th {\n",
              "        text-align: right;\n",
              "    }\n",
              "</style>\n",
              "<table border=\"1\" class=\"dataframe\">\n",
              "  <thead>\n",
              "    <tr style=\"text-align: right;\">\n",
              "      <th></th>\n",
              "      <th>feature</th>\n",
              "      <th>label</th>\n",
              "    </tr>\n",
              "  </thead>\n",
              "  <tbody>\n",
              "    <tr>\n",
              "      <th>0</th>\n",
              "      <td>im feeling rather rotten so im not very ambiti...</td>\n",
              "      <td>sadness</td>\n",
              "    </tr>\n",
              "    <tr>\n",
              "      <th>1</th>\n",
              "      <td>im updating my blog because i feel shitty</td>\n",
              "      <td>sadness</td>\n",
              "    </tr>\n",
              "    <tr>\n",
              "      <th>2</th>\n",
              "      <td>i never make her separate from me because i do...</td>\n",
              "      <td>sadness</td>\n",
              "    </tr>\n",
              "    <tr>\n",
              "      <th>3</th>\n",
              "      <td>i left with my bouquet of red and yellow tulip...</td>\n",
              "      <td>joy</td>\n",
              "    </tr>\n",
              "    <tr>\n",
              "      <th>4</th>\n",
              "      <td>i was feeling a little vain when i did this one</td>\n",
              "      <td>sadness</td>\n",
              "    </tr>\n",
              "  </tbody>\n",
              "</table>\n",
              "</div>"
            ],
            "text/plain": [
              "                                             feature    label\n",
              "0  im feeling rather rotten so im not very ambiti...  sadness\n",
              "1          im updating my blog because i feel shitty  sadness\n",
              "2  i never make her separate from me because i do...  sadness\n",
              "3  i left with my bouquet of red and yellow tulip...      joy\n",
              "4    i was feeling a little vain when i did this one  sadness"
            ]
          },
          "metadata": {},
          "execution_count": 2
        }
      ]
    },
    {
      "cell_type": "markdown",
      "metadata": {
        "id": "bSaI8H3DXZeH"
      },
      "source": [
        "## **Plot the number of samples per emotion**"
      ]
    },
    {
      "cell_type": "code",
      "metadata": {
        "colab": {
          "base_uri": "https://localhost:8080/",
          "height": 298
        },
        "id": "vszfZkZ8Wwlw",
        "outputId": "1b2c83ec-8767-4a31-a124-cfc77c3615a4"
      },
      "source": [
        "import seaborn as sns\n",
        "\n",
        "sns.countplot(x='label',data=train)"
      ],
      "execution_count": null,
      "outputs": [
        {
          "output_type": "execute_result",
          "data": {
            "text/plain": [
              "<matplotlib.axes._subplots.AxesSubplot at 0x7f862a536510>"
            ]
          },
          "metadata": {},
          "execution_count": 3
        },
        {
          "output_type": "display_data",
          "data": {
            "image/png": "[encoded data removed]",
            "text/plain": [
              "<Figure size 432x288 with 1 Axes>"
            ]
          },
          "metadata": {
            "needs_background": "light"
          }
        }
      ]
    },
    {
      "cell_type": "markdown",
      "metadata": {
        "id": "hpa_rjYrXjjt"
      },
      "source": [
        "Processing the text by removing noices"
      ]
    },
    {
      "cell_type": "code",
      "metadata": {
        "id": "R9bFX63YJxAr",
        "colab": {
          "base_uri": "https://localhost:8080/"
        },
        "outputId": "744a1423-bedf-4574-89e8-f9ac20d6ae37"
      },
      "source": [
        "pip install neattext"
      ],
      "execution_count": null,
      "outputs": [
        {
          "output_type": "stream",
          "name": "stdout",
          "text": [
            "Collecting neattext\n",
            "  Downloading neattext-0.1.2-py3-none-any.whl (114 kB)\n",
            "\u001b[?25l\r\u001b[K     |██▉                             | 10 kB 24.3 MB/s eta 0:00:01\r\u001b[K     |█████▊                          | 20 kB 26.3 MB/s eta 0:00:01\r\u001b[K     |████████▋                       | 30 kB 11.1 MB/s eta 0:00:01\r\u001b[K     |███████████▌                    | 40 kB 8.9 MB/s eta 0:00:01\r\u001b[K     |██████████████▍                 | 51 kB 5.1 MB/s eta 0:00:01\r\u001b[K     |█████████████████▏              | 61 kB 5.5 MB/s eta 0:00:01\r\u001b[K     |████████████████████            | 71 kB 5.9 MB/s eta 0:00:01\r\u001b[K     |███████████████████████         | 81 kB 6.6 MB/s eta 0:00:01\r\u001b[K     |█████████████████████████▉      | 92 kB 6.6 MB/s eta 0:00:01\r\u001b[K     |████████████████████████████▊   | 102 kB 5.3 MB/s eta 0:00:01\r\u001b[K     |███████████████████████████████▋| 112 kB 5.3 MB/s eta 0:00:01\r\u001b[K     |████████████████████████████████| 114 kB 5.3 MB/s \n",
            "\u001b[?25hInstalling collected packages: neattext\n",
            "Successfully installed neattext-0.1.2\n"
          ]
        }
      ]
    },
    {
      "cell_type": "code",
      "metadata": {
        "id": "DYeNmkd4J-bx"
      },
      "source": [
        "import neattext.functions as nfx\n",
        "\n",
        "def neat_text(x):\n",
        "  x['neat_text'] = x['feature'].apply(nfx.remove_userhandles)\n",
        "  x['neat_text'] = x['neat_text'].apply(nfx.remove_punctuations)\n",
        "\n",
        "neat_text(train)"
      ],
      "execution_count": null,
      "outputs": []
    },
    {
      "cell_type": "code",
      "metadata": {
        "colab": {
          "base_uri": "https://localhost:8080/",
          "height": 206
        },
        "id": "AsGl06fzKEjK",
        "outputId": "ad5283b8-ac5b-4639-a827-8cfaf8aabfd3"
      },
      "source": [
        "train.head()"
      ],
      "execution_count": null,
      "outputs": [
        {
          "output_type": "execute_result",
          "data": {
            "text/html": [
              "<div>\n",
              "<style scoped>\n",
              "    .dataframe tbody tr th:only-of-type {\n",
              "        vertical-align: middle;\n",
              "    }\n",
              "\n",
              "    .dataframe tbody tr th {\n",
              "        vertical-align: top;\n",
              "    }\n",
              "\n",
              "    .dataframe thead th {\n",
              "        text-align: right;\n",
              "    }\n",
              "</style>\n",
              "<table border=\"1\" class=\"dataframe\">\n",
              "  <thead>\n",
              "    <tr style=\"text-align: right;\">\n",
              "      <th></th>\n",
              "      <th>feature</th>\n",
              "      <th>label</th>\n",
              "      <th>neat_text</th>\n",
              "    </tr>\n",
              "  </thead>\n",
              "  <tbody>\n",
              "    <tr>\n",
              "      <th>0</th>\n",
              "      <td>im feeling rather rotten so im not very ambiti...</td>\n",
              "      <td>sadness</td>\n",
              "      <td>im feeling rather rotten so im not very ambiti...</td>\n",
              "    </tr>\n",
              "    <tr>\n",
              "      <th>1</th>\n",
              "      <td>im updating my blog because i feel shitty</td>\n",
              "      <td>sadness</td>\n",
              "      <td>im updating my blog because i feel shitty</td>\n",
              "    </tr>\n",
              "    <tr>\n",
              "      <th>2</th>\n",
              "      <td>i never make her separate from me because i do...</td>\n",
              "      <td>sadness</td>\n",
              "      <td>i never make her separate from me because i do...</td>\n",
              "    </tr>\n",
              "    <tr>\n",
              "      <th>3</th>\n",
              "      <td>i left with my bouquet of red and yellow tulip...</td>\n",
              "      <td>joy</td>\n",
              "      <td>i left with my bouquet of red and yellow tulip...</td>\n",
              "    </tr>\n",
              "    <tr>\n",
              "      <th>4</th>\n",
              "      <td>i was feeling a little vain when i did this one</td>\n",
              "      <td>sadness</td>\n",
              "      <td>i was feeling a little vain when i did this one</td>\n",
              "    </tr>\n",
              "  </tbody>\n",
              "</table>\n",
              "</div>"
            ],
            "text/plain": [
              "                                             feature  ...                                          neat_text\n",
              "0  im feeling rather rotten so im not very ambiti...  ...  im feeling rather rotten so im not very ambiti...\n",
              "1          im updating my blog because i feel shitty  ...          im updating my blog because i feel shitty\n",
              "2  i never make her separate from me because i do...  ...  i never make her separate from me because i do...\n",
              "3  i left with my bouquet of red and yellow tulip...  ...  i left with my bouquet of red and yellow tulip...\n",
              "4    i was feeling a little vain when i did this one  ...    i was feeling a little vain when i did this one\n",
              "\n",
              "[5 rows x 3 columns]"
            ]
          },
          "metadata": {},
          "execution_count": 6
        }
      ]
    },
    {
      "cell_type": "markdown",
      "metadata": {
        "id": "GHZ0AFLhXzDF"
      },
      "source": [
        "## **Load the dataset**"
      ]
    },
    {
      "cell_type": "code",
      "metadata": {
        "id": "qI24YGUbLEkM"
      },
      "source": [
        "X = train['neat_text']\n",
        "Y = train['label']"
      ],
      "execution_count": null,
      "outputs": []
    },
    {
      "cell_type": "markdown",
      "metadata": {
        "id": "MKoSRJi1X4G9"
      },
      "source": [
        "## **Vectorizing the text inputs**"
      ]
    },
    {
      "cell_type": "code",
      "metadata": {
        "id": "ZQSUMwpBcYB1"
      },
      "source": [
        "from sklearn.linear_model import LogisticRegression\n",
        "from sklearn.feature_extraction.text import TfidfVectorizer\n",
        "from sklearn.model_selection import train_test_split"
      ],
      "execution_count": null,
      "outputs": []
    },
    {
      "cell_type": "code",
      "metadata": {
        "id": "cq45KWvTcYkH"
      },
      "source": [
        "tfv = TfidfVectorizer()\n",
        "X = tfv.fit_transform(X)"
      ],
      "execution_count": null,
      "outputs": []
    },
    {
      "cell_type": "markdown",
      "metadata": {
        "id": "DfaxWCIiX_zF"
      },
      "source": [
        "## **Train-Test Splitting**"
      ]
    },
    {
      "cell_type": "code",
      "metadata": {
        "id": "myff1o3IcYhk"
      },
      "source": [
        "X_train,X_test,Y_train,Y_test = train_test_split(X,Y,test_size=0.3)"
      ],
      "execution_count": null,
      "outputs": []
    },
    {
      "cell_type": "code",
      "metadata": {
        "id": "iIivkQGKf0Zj"
      },
      "source": [
        ""
      ],
      "execution_count": null,
      "outputs": []
    },
    {
      "cell_type": "markdown",
      "metadata": {
        "id": "MTRmdnBlYLZ1"
      },
      "source": [
        "## **Logistic Regression Model**"
      ]
    },
    {
      "cell_type": "code",
      "metadata": {
        "colab": {
          "base_uri": "https://localhost:8080/"
        },
        "id": "2J5VvJUwcYmU",
        "outputId": "b563ad0c-2d28-4e16-91bf-ea5132066f5b"
      },
      "source": [
        "model = LogisticRegression()\n",
        "model.fit(X_train,Y_train)"
      ],
      "execution_count": null,
      "outputs": [
        {
          "output_type": "stream",
          "name": "stderr",
          "text": [
            "/usr/local/lib/python3.7/dist-packages/sklearn/linear_model/_logistic.py:818: ConvergenceWarning: lbfgs failed to converge (status=1):\n",
            "STOP: TOTAL NO. of ITERATIONS REACHED LIMIT.\n",
            "\n",
            "Increase the number of iterations (max_iter) or scale the data as shown in:\n",
            "    https://scikit-learn.org/stable/modules/preprocessing.html\n",
            "Please also refer to the documentation for alternative solver options:\n",
            "    https://scikit-learn.org/stable/modules/linear_model.html#logistic-regression\n",
            "  extra_warning_msg=_LOGISTIC_SOLVER_CONVERGENCE_MSG,\n"
          ]
        },
        {
          "output_type": "execute_result",
          "data": {
            "text/plain": [
              "LogisticRegression()"
            ]
          },
          "metadata": {},
          "execution_count": 11
        }
      ]
    },
    {
      "cell_type": "code",
      "metadata": {
        "colab": {
          "base_uri": "https://localhost:8080/"
        },
        "id": "o2OfntVzcYoh",
        "outputId": "b046f8ba-e6f7-401a-cd71-7e30b716636f"
      },
      "source": [
        "accuracy = model.score(X_test,Y_test)*100\n",
        "print(\"ACCURACY\")\n",
        "print(\"-----------------------------------------------------------\")\n",
        "print(\"The model has a test accuracy of {} % \".format(accuracy))"
      ],
      "execution_count": null,
      "outputs": [
        {
          "output_type": "stream",
          "name": "stdout",
          "text": [
            "ACCURACY\n",
            "-----------------------------------------------------------\n",
            "The model has a test accuracy of 84.41666666666666 % \n"
          ]
        }
      ]
    },
    {
      "cell_type": "code",
      "metadata": {
        "id": "hnoA7cp5oObJ"
      },
      "source": [
        ""
      ],
      "execution_count": null,
      "outputs": []
    },
    {
      "cell_type": "markdown",
      "metadata": {
        "id": "lM0WJESNYsRv"
      },
      "source": [
        "## **Classification Report**"
      ]
    },
    {
      "cell_type": "code",
      "metadata": {
        "colab": {
          "base_uri": "https://localhost:8080/"
        },
        "id": "Fypam4O6Ovio",
        "outputId": "54f1f0ff-a0a6-4624-ca13-e9842ab74ab5"
      },
      "source": [
        "from sklearn.metrics import classification_report\n",
        "\n",
        "Y_pred = model.predict(X_test)\n",
        "print(classification_report(Y_test,Y_pred))\n"
      ],
      "execution_count": null,
      "outputs": [
        {
          "output_type": "stream",
          "name": "stdout",
          "text": [
            "              precision    recall  f1-score   support\n",
            "\n",
            "       anger       0.90      0.76      0.82       834\n",
            "        fear       0.86      0.73      0.79       691\n",
            "         joy       0.80      0.96      0.87      2008\n",
            "        love       0.89      0.57      0.69       499\n",
            "     sadness       0.87      0.92      0.89      1734\n",
            "    surprise       0.97      0.47      0.63       234\n",
            "\n",
            "    accuracy                           0.84      6000\n",
            "   macro avg       0.88      0.74      0.78      6000\n",
            "weighted avg       0.85      0.84      0.84      6000\n",
            "\n"
          ]
        }
      ]
    },
    {
      "cell_type": "code",
      "metadata": {
        "id": "Wi0wweTHiirV"
      },
      "source": [
        ""
      ],
      "execution_count": null,
      "outputs": []
    },
    {
      "cell_type": "markdown",
      "metadata": {
        "id": "sNpIMj4Kk6hK"
      },
      "source": [
        "# **Predicting Live Samples**"
      ]
    },
    {
      "cell_type": "code",
      "metadata": {
        "id": "2LusHrhFcYr-"
      },
      "source": [
        "def predict_emotion(text):\n",
        "  txt = [text]\n",
        "  vect = tfv.transform(txt).toarray()\n",
        "  pred = model.predict(vect)[0]\n",
        "  for i in range(len(model.classes_)):\n",
        "    if model.classes_[i] == pred:\n",
        "      pred_score = model.predict_proba(vect)[0][i]*100\n",
        "  print(\"Predicted Emotion: {}, Prediction Probability: {:.2f} %\".format(pred,pred_score))\n",
        "  print(\"---------------------------------------------------------------------------\")\n",
        "  print(\"Emotions and their probabilities\")\n",
        "  for i in range(len(model.classes_)):\n",
        "    print(\"{} : {:.2f} %\".format(model.classes_[i],model.predict_proba(vect)[0][i]*100))"
      ],
      "execution_count": null,
      "outputs": []
    },
    {
      "cell_type": "code",
      "metadata": {
        "colab": {
          "base_uri": "https://localhost:8080/"
        },
        "id": "gs1gNPfEhsO5",
        "outputId": "209c4a07-d462-4495-f4bb-749a770afc6e"
      },
      "source": [
        "!pip install scikit-plot"
      ],
      "execution_count": null,
      "outputs": [
        {
          "output_type": "stream",
          "name": "stdout",
          "text": [
            "Collecting scikit-plot\n",
            "  Downloading scikit_plot-0.3.7-py3-none-any.whl (33 kB)\n",
            "Requirement already satisfied: scikit-learn>=0.18 in /usr/local/lib/python3.7/dist-packages (from scikit-plot) (1.0.1)\n",
            "Requirement already satisfied: joblib>=0.10 in /usr/local/lib/python3.7/dist-packages (from scikit-plot) (1.1.0)\n",
            "Requirement already satisfied: scipy>=0.9 in /usr/local/lib/python3.7/dist-packages (from scikit-plot) (1.4.1)\n",
            "Requirement already satisfied: matplotlib>=1.4.0 in /usr/local/lib/python3.7/dist-packages (from scikit-plot) (3.2.2)\n",
            "Requirement already satisfied: numpy>=1.11 in /usr/local/lib/python3.7/dist-packages (from matplotlib>=1.4.0->scikit-plot) (1.19.5)\n",
            "Requirement already satisfied: cycler>=0.10 in /usr/local/lib/python3.7/dist-packages (from matplotlib>=1.4.0->scikit-plot) (0.11.0)\n",
            "Requirement already satisfied: pyparsing!=2.0.4,!=2.1.2,!=2.1.6,>=2.0.1 in /usr/local/lib/python3.7/dist-packages (from matplotlib>=1.4.0->scikit-plot) (3.0.6)\n",
            "Requirement already satisfied: kiwisolver>=1.0.1 in /usr/local/lib/python3.7/dist-packages (from matplotlib>=1.4.0->scikit-plot) (1.3.2)\n",
            "Requirement already satisfied: python-dateutil>=2.1 in /usr/local/lib/python3.7/dist-packages (from matplotlib>=1.4.0->scikit-plot) (2.8.2)\n",
            "Requirement already satisfied: six>=1.5 in /usr/local/lib/python3.7/dist-packages (from python-dateutil>=2.1->matplotlib>=1.4.0->scikit-plot) (1.15.0)\n",
            "Requirement already satisfied: threadpoolctl>=2.0.0 in /usr/local/lib/python3.7/dist-packages (from scikit-learn>=0.18->scikit-plot) (3.0.0)\n",
            "Installing collected packages: scikit-plot\n",
            "Successfully installed scikit-plot-0.3.7\n"
          ]
        }
      ]
    },
    {
      "cell_type": "code",
      "metadata": {
        "id": "aXYwhpymnZuQ"
      },
      "source": [
        ""
      ],
      "execution_count": null,
      "outputs": []
    },
    {
      "cell_type": "code",
      "metadata": {
        "id": "jrVK9eM5eeyr",
        "colab": {
          "base_uri": "https://localhost:8080/",
          "height": 350
        },
        "outputId": "b7328519-43c9-4d2f-8899-28f187f3a487"
      },
      "source": [
        "import scikitplot as skplt\n",
        "import matplotlib.pyplot as plt\n",
        "\n",
        "y_true = Y_test\n",
        "y_probas = model.predict_proba(X_test)\n",
        "skplt.metrics.plot_roc_curve(y_true, y_probas)\n",
        "plt.show()\n",
        "\n"
      ],
      "execution_count": null,
      "outputs": [
        {
          "output_type": "stream",
          "name": "stderr",
          "text": [
            "/usr/local/lib/python3.7/dist-packages/sklearn/utils/deprecation.py:87: FutureWarning: Function plot_roc_curve is deprecated; This will be removed in v0.5.0. Please use scikitplot.metrics.plot_roc instead.\n",
            "  warnings.warn(msg, category=FutureWarning)\n"
          ]
        },
        {
          "output_type": "display_data",
          "data": {
            "image/png": "[encoded data removed]",
            "text/plain": [
              "<Figure size 432x288 with 1 Axes>"
            ]
          },
          "metadata": {
            "needs_background": "light"
          }
        }
      ]
    },
    {
      "cell_type": "code",
      "metadata": {
        "id": "OW6K7h86neyx"
      },
      "source": [
        "\n",
        "\n",
        "# Create the train and test data\n",
        "X_train, X_test, y_train, y_test = train_test_split(X, y, test_size=0.2, random_state=42)\n",
        "\n",
        "# Instantiate the linear model and visualizer\n",
        "model = Lasso()"
      ],
      "execution_count": null,
      "outputs": []
    },
    {
      "cell_type": "markdown",
      "metadata": {
        "id": "_4Mw3615lBCY"
      },
      "source": [
        "### **Sample Text 1**"
      ]
    },
    {
      "cell_type": "code",
      "metadata": {
        "id": "E8emmM3mnXzY"
      },
      "source": [
        ""
      ],
      "execution_count": null,
      "outputs": []
    },
    {
      "cell_type": "code",
      "metadata": {
        "colab": {
          "base_uri": "https://localhost:8080/"
        },
        "id": "mv_9PYLzc7MX",
        "outputId": "908ba6d8-4fd1-425f-dad5-018ad64ade9a"
      },
      "source": [
        "predict_emotion(\"I am frustrated at the way things are.\")"
      ],
      "execution_count": null,
      "outputs": [
        {
          "output_type": "stream",
          "name": "stdout",
          "text": [
            "Predicted Emotion: anger, Prediction Probability: 82.72 %\n",
            "---------------------------------------------------------------------------\n",
            "Emotions and their probabilities\n",
            "anger : 82.72 %\n",
            "fear : 3.88 %\n",
            "joy : 3.26 %\n",
            "love : 2.03 %\n",
            "sadness : 6.72 %\n",
            "surprise : 1.40 %\n"
          ]
        }
      ]
    },
    {
      "cell_type": "markdown",
      "metadata": {
        "id": "oaleXxzQlHqx"
      },
      "source": [
        "### **Sample Text 2**"
      ]
    },
    {
      "cell_type": "code",
      "metadata": {
        "colab": {
          "base_uri": "https://localhost:8080/"
        },
        "id": "CUNkzp8mi2Wo",
        "outputId": "76ddb6e4-7f40-4892-aab7-4665d27d90e1"
      },
      "source": [
        "predict_emotion(\"Thank you! This is the best thing I can ask for.\")"
      ],
      "execution_count": null,
      "outputs": [
        {
          "output_type": "stream",
          "name": "stdout",
          "text": [
            "Predicted Emotion: joy, Prediction Probability: 54.82 %\n",
            "---------------------------------------------------------------------------\n",
            "Emotions and their probabilities\n",
            "anger : 9.21 %\n",
            "fear : 6.74 %\n",
            "joy : 54.82 %\n",
            "love : 8.98 %\n",
            "sadness : 18.97 %\n",
            "surprise : 1.29 %\n"
          ]
        }
      ]
    },
    {
      "cell_type": "markdown",
      "metadata": {
        "id": "_mYpor7zllkG"
      },
      "source": [
        "### **Sample Text 3**"
      ]
    },
    {
      "cell_type": "code",
      "metadata": {
        "colab": {
          "base_uri": "https://localhost:8080/"
        },
        "id": "Rrpn8UFolPpg",
        "outputId": "64aa1b2c-1d46-49d6-8cc0-5c953de7f2f5"
      },
      "source": [
        "predict_emotion(\"I am really scared of a spider\")"
      ],
      "execution_count": null,
      "outputs": [
        {
          "output_type": "stream",
          "name": "stdout",
          "text": [
            "Predicted Emotion: fear, Prediction Probability: 75.67 %\n",
            "---------------------------------------------------------------------------\n",
            "Emotions and their probabilities\n",
            "anger : 5.52 %\n",
            "fear : 75.67 %\n",
            "joy : 6.48 %\n",
            "love : 3.16 %\n",
            "sadness : 6.87 %\n",
            "surprise : 2.30 %\n"
          ]
        }
      ]
    },
    {
      "cell_type": "code",
      "metadata": {
        "id": "GkX9ggpoltXO"
      },
      "source": [
        "\n",
        "#Run these functions to obtain the keywords of every emotions\n",
        "\n",
        "from collections import Counter\n",
        "\n",
        "def get_counter(doc):\n",
        "  num = [word for word in doc.split()]\n",
        "  most_common_ = Counter(num).most_common(69)\n",
        "  return dict(most_common_)\n",
        "\n",
        "def get_doc(x,emotion):\n",
        "  list = x[x['label'] == emotion]['input'].tolist()\n",
        "  doc = ' '.join(list)\n",
        "  return doc\n",
        "\n",
        "# joy_doc = get_doc(train,'joy')\n",
        "# counter_joy = get_counter(joy_doc)     #Can be used for any emotion\n",
        "# counter_joy\n"
      ],
      "execution_count": null,
      "outputs": []
    }
  ]
}